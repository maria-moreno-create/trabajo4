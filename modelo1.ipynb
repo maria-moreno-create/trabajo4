import time
%cls
time.sleep(0.2)
%reset -f

# Librerias
import pandas as pd
import matplotlib.pyplot as plt
import seaborn as sns

# Librerias del algoritmo de machine learning
from sklearn.model_selection import train_test_split
from sklearn.linear_model import LinearRegression
from sklearn.metrics import mean_squared_error
from sklearn.preprocessing import OneHotEncoder
from sklearn.compose import ColumnTransformer
from sklearn.pipeline import Pipeline
from sklearn.metrics import r2_score


# Cargar el dataset
dataset = pd.read_csv('dataset.csv', delimiter=';', low_memory=False)

#Eliminacion de atributtos irrelevantes.
L_eliminar = ['id', 
              'title', 
              'body', 
              'amenities', 
              'currency', 
              'price_display', 
              'address', 
              'cityname', 
              'latitude', 
              'longitude', 
              'time']
dataset = dataset.drop( columns = L_eliminar)

#Eliminar registro con el precio mas alto.
precioMaximo = dataset['price'].max()
indicePrecioMaximo = dataset[dataset['price'] == precioMaximo].index
dataset = dataset.drop(indicePrecioMaximo)

# Eliminar los registros donde el atributo 'category' es 'housing/rent/apartment'
dataset = dataset[dataset['category'] == 'housing/rent/apartment']

# Eliminar los registros donde el atributo 'bedrooms' es 7 o más
dataset = dataset[dataset['bedrooms'] < 7]

# Eliminar registros con valores faltantes
dataset = dataset.dropna()

# Eliminar registros con valores WV
dataset = dataset[dataset['state'] != 'WV']

# Creacion de un modelo de regresion lineal

# Definir las variables independientes y dependiente
X = dataset[['state', 'bathrooms', 'bedrooms', 'square_feet']]
y = dataset['price']

# Dividir los datos en entrenamiento y prueba
X_entrenamiento, X_prueba, y_entrenamiento, y_prueba = train_test_split(X, y, test_size=0.2, random_state=42)



# Preprocesar los datos: Codificar la variable 'state' utilizando One-Hot Encoding, este es un metodo.
preprocessor = ColumnTransformer(
    transformers=[
        ('cat', OneHotEncoder(), ['state'])  # Aplicar One-Hot Encoding a la columna 'state'
    ],
    remainder='passthrough'  # Dejar las demás columnas sin cambios
)

# Crear el pipeline
pipeline = Pipeline(steps=[
    ('preprocessor', preprocessor),  # Aplicar el preprocesador
    ('regressor', LinearRegression())  # Aplicar el modelo de regresión lineal
])

# Entrenar el modelo
pipeline.fit(X_entrenamiento, y_entrenamiento)


# Evaluar el modelo
y_pred = pipeline.predict(X_prueba)
mse = mean_squared_error(y_prueba, y_pred)
print(f'Error cuadrático medio: {mse}')


# Calcular R^2
r2 = r2_score(y_prueba, y_pred)
print(f'Coeficiente de determinación (R^2): {r2}')


























































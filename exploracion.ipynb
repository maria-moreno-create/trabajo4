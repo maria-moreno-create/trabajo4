import time
%cls
time.sleep(0.2)
%reset -f

# Librerias
import pandas as pd
import matplotlib.pyplot as plt
import seaborn as sns


# Cargar el dataset
dataset = pd.read_csv('dataset.csv', delimiter=';', low_memory=False)
n = dataset.shape[1] #Cantidad de atributos
r = dataset.shape[0] #Cantidad de registros

# Cantidad de atributos y registros
print(f"La cantidad de atributos es: {n} \n")
print(f"La cantidad de registros es: {r} \n")

atributos = dataset.columns
print("La lista de atributos del dataset y el tipo de datos es:")
for atributo in atributos:
    print(f"{atributo}: {dataset[atributo].dtype}")
print("\n")

#Cantidad de atributos unicos
print("La cantidad de valores unicos por cada atributos es:")
for atributo in atributos:
    print(f" {atributo}: {dataset[atributo].nunique()} ")
print("\n")
    
# Seleccion de atributos a graficar con diagrama de barras.
L_barras = ['category', 'fee', 'has_photo', 'pets_allowed', 'price_type', 'state', 'source']

# Hacer un diagrama de barras con cada uno de las categorias seleccionadas.
for atributo in L_barras:
    cuenta = dataset[atributo].value_counts() # Contar la frecuencia de cada valor en el atributo
    plt.figure(figsize=(10,6))
    plt.bar(cuenta.index, cuenta.values)
    plt.ylim([0, 1.2*max(cuenta.values)])
    plt.xlabel('Valores')
    plt.ylabel('Frecuencia')
    plt.title(atributo)
    plt.xticks(rotation=90)
    plt.tight_layout()
    
    # Colocar etiquetas a las columnas.
    for i, v in enumerate(cuenta.values):
        plt.text(i, v + 0.02*max(cuenta.values), str(v), ha='center', va='bottom', rotation=90)
    plt.show()  # Mostrar el gráfico
    
    
# Seleccion de atributos a graficar con grafico de dispersion.
L_dispersion = ['bathrooms', 'bedrooms', 'price', 'square_feet']

# Resumen de variables cuantitativas
for atributo in L_dispersion:
    resumen = dataset[atributo].describe()
    print(f"Resumen para el atributo: {resumen.name}")
    print(resumen)
    print("\n")
    
# Grafico de dispersion.
for atributo in L_dispersion:
    if atributo != 'price':
        plt.figure(figsize=(10,6))
        plt.scatter(dataset[atributo], dataset['price'], s=30, alpha=0.5)
        plt.xlabel(atributo)
        plt.ylabel('Price')
        plt.title(atributo)
        plt.tight_layout()
        plt.show()

# Seleccion de atributos a graficar con histograma.
L_histograma = ['price', 'square_feet']

# Grafico histograma.
for atributo in L_histograma:
    plt.figure(figsize=(10,6))
    n = int((dataset[atributo].nunique())/10)

    print(n)

    plt.hist(dataset[atributo], bins = 300, color='skyblue', edgecolor='black', density=True)
    plt.xlim([0, 10000])
    plt.xlabel('Valores')
    plt.ylabel('Frecuencia')
    plt.title(atributo)
    plt.tight_layout()
        
        
        
        
        
        
        
        
        
        
        
        
        
        
        
        
        
        
        
        





